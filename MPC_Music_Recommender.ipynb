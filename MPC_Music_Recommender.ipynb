{
  "nbformat": 4,
  "nbformat_minor": 0,
  "metadata": {
    "colab": {
      "provenance": [],
      "authorship_tag": "ABX9TyMVHPobN18U1EMJgRCI8yYL",
      "include_colab_link": true
    },
    "kernelspec": {
      "name": "python3",
      "display_name": "Python 3"
    },
    "language_info": {
      "name": "python"
    }
  },
  "cells": [
    {
      "cell_type": "markdown",
      "metadata": {
        "id": "view-in-github",
        "colab_type": "text"
      },
      "source": [
        "<a href=\"https://colab.research.google.com/github/shirsneh/PP_Music_Recommender/blob/master/MPC_Music_Recommender.ipynb\" target=\"_parent\"><img src=\"https://colab.research.google.com/assets/colab-badge.svg\" alt=\"Open In Colab\"/></a>"
      ]
    },
    {
      "cell_type": "markdown",
      "source": [
        "<div style=\"text-align:center;\">\n",
        "    <h2 style=\"font-size: 24px;\">Multy Party Computation (MPC) Songs Recommender System</h2>\n",
        "</div>\n"
      ],
      "metadata": {
        "id": "knbSx0Oa0yUP"
      }
    },
    {
      "cell_type": "markdown",
      "source": [
        "An application focused on song recommendations. The recommendation system proposed here adopts a privacy-preserving federated approach. It incorporates matrix factorization and Paillier encryption to provide users with personalized song recommendations while maintaining their privacy."
      ],
      "metadata": {
        "id": "jafwMmSzsa31"
      }
    },
    {
      "cell_type": "markdown",
      "source": [
        "**Add Imports**"
      ],
      "metadata": {
        "id": "VQrYOBo1nKCP"
      }
    },
    {
      "cell_type": "code",
      "source": [
        "!pip install phe"
      ],
      "metadata": {
        "colab": {
          "base_uri": "https://localhost:8080/"
        },
        "id": "AjCR7mv5z60K",
        "outputId": "1fcc38e2-6245-4e64-b760-127bbf909a08"
      },
      "execution_count": 5,
      "outputs": [
        {
          "output_type": "stream",
          "name": "stdout",
          "text": [
            "Collecting phe\n",
            "  Downloading phe-1.5.0-py2.py3-none-any.whl (53 kB)\n",
            "\u001b[2K     \u001b[90m━━━━━━━━━━━━━━━━━━━━━━━━━━━━━━━━━━━━━━━\u001b[0m \u001b[32m53.7/53.7 kB\u001b[0m \u001b[31m840.7 kB/s\u001b[0m eta \u001b[36m0:00:00\u001b[0m\n",
            "\u001b[?25hInstalling collected packages: phe\n",
            "Successfully installed phe-1.5.0\n"
          ]
        }
      ]
    },
    {
      "cell_type": "code",
      "source": [
        "import tkinter as tk\n",
        "from tkinter import ttk\n",
        "from tkinter import messagebox\n",
        "import numpy as np\n",
        "import phe as paillier\n",
        "import hashlib\n",
        "from time import time\n",
        "import json"
      ],
      "metadata": {
        "id": "aAiqEolWnKeF"
      },
      "execution_count": null,
      "outputs": []
    },
    {
      "cell_type": "markdown",
      "source": [
        " **User Class implementation**\n",
        "\n",
        " The User class embodies system users, encompassing both their actual and predicted ratings. It includes a binary mask that signifies their rated items, user identification, encrypted password, learning rate, as well as private and public keys. This class also features a method for updating user ratings."
      ],
      "metadata": {
        "id": "0p0GUUI0mI32"
      }
    },
    {
      "cell_type": "code",
      "source": [
        "import numpy as np\n",
        "\n",
        "\n",
        "class User:\n",
        "    def __init__(self, user_id, init_profile, actual_ratings, mask, lr, pubkey, privkey,\n",
        "                 pred_ratings, encrypted_password):\n",
        "        self.user_id = user_id\n",
        "        self.encrypted_password = encrypted_password\n",
        "        self.user_profile = np.array(init_profile)\n",
        "        self.actual_ratings = actual_ratings\n",
        "        self.pred_ratings = pred_ratings\n",
        "        self.mask = mask\n",
        "        self.lr = lr\n",
        "        self.pubkey = pubkey\n",
        "        self.privkey = privkey\n",
        "\n",
        "    def update_rating(self, song_id, rating):\n",
        "        self.actual_ratings[song_id] = rating\n",
        "        self.mask[song_id] = 1 if rating >= 3 else 0"
      ],
      "metadata": {
        "id": "22D08dg0mfbX"
      },
      "execution_count": 1,
      "outputs": []
    },
    {
      "cell_type": "markdown",
      "source": [
        " **Server Class implementation**\n",
        "\n",
        " The Server class functions as the central server within the federated learning framework. It encompasses item profiles, a learning rate, user count, and a public key. This class includes a method for updating these profiles based on user gradients."
      ],
      "metadata": {
        "id": "BPYTZj34ptnp"
      }
    },
    {
      "cell_type": "code",
      "source": [
        "class Server:\n",
        "    def __init__(self, init_song_profile, lr, users_count, pubkey):\n",
        "        self.song_profile = np.array(init_song_profile)\n",
        "        self.lr = lr\n",
        "        self.users_count = users_count\n",
        "        self.pubkey = pubkey\n",
        "\n",
        "    def update_song_profile(self, user_gradient):\n",
        "        new_song_profile = (self.lr / self.users_count) * user_gradient\n",
        "        self.song_profile = self.song_profile - new_song_profile"
      ],
      "metadata": {
        "id": "NMym7BNqpvpa"
      },
      "execution_count": 2,
      "outputs": []
    },
    {
      "cell_type": "markdown",
      "source": [
        "**Create dataset**"
      ],
      "metadata": {
        "id": "Zqstsu_boDr4"
      }
    },
    {
      "cell_type": "code",
      "source": [
        "if __name__ == '__main__':\n",
        "    public_key, private_key = paillier.generate_paillier_keypair()\n",
        "\n",
        "    user_headers = [\"type\", \"user_id\", \"encrypted_password\", \"init_profile\", \"actual_ratings\", \"mask\", \"lr\", \"pred_ratings\"]\n",
        "    songs_headers = [\"type\", \"song_id\", \"song_profile\", \"lr\", \"users_count\"]\n",
        "\n",
        "    sample_users = [\n",
        "        [\"users\", 1, hashlib.sha512(\"password1\".encode()).hexdigest(), [0.1,0.2,0.3,0.3,0.7,0.6,0.5,0.3,0.3,0.7,0.6,0.5,0.5,0.6,0.6], [4,3,0,0,0,0,0,0,0,0,0,0,0,0,0], [1,1,0,0,0,0,0,0,0,0,0,0,0,0,0], 0.01, [0.4,0.5,0.6,0.6,0.7,0.5,0.7,0.6,0.5,0.6,0.5,0.7,0.6,0.7,0.5]],\n",
        "        [\"users\", 2, hashlib.sha512(\"password2\".encode()).hexdigest(), [0.2,0.3,0.4,0.3,0.7,0.6,0.5,0.3,0.3,0.7,0.6,0.5,0.5,0.6,0.6], [5,2,0,0,0,0,0,0,0,0,0,0,0,0,0], [1,1,0,0,0,0,0,0,0,0,0,0,0,0,0], 0.01, [0.3,0.6,0.6,0.6,0.7,0.5,0.7,0.6,0.5,0.6,0.5,0.7,0.6,0.7,0.5]],\n",
        "        [\"users\", 3, hashlib.sha512(\"password3\".encode()).hexdigest(), [0.3,0.4,0.5,0.3,0.7,0.6,0.5,0.3,0.3,0.7,0.6,0.5,0.5,0.6,0.6], [5,3,0,0,0,0,0,0,0,0,0,0,0,0,0], [1,1,0,0,0,0,0,0,0,0,0,0,0,0,0], 0.01, [0.3,0.5,0.6,0.6,0.7,0.5,0.7,0.6,0.5,0.6,0.5,0.7,0.6,0.7,0.5]],\n",
        "        [\"users\", 4, hashlib.sha512(\"password4\".encode()).hexdigest(), [0.3,0.4,0.6,0.3,0.7,0.6,0.5,0.3,0.3,0.7,0.6,0.5,0.5,0.6,0.6], [2,5,0,0,0,0,0,0,0,0,0,0,0,0,0], [1,1,0,0,0,0,0,0,0,0,0,0,0,0,0], 0.01,\n",
        "         [0.3,0.5,0.7,0.6,0.7,0.5,0.7,0.6,0.5,0.6,0.5,0.7,0.6,0.7,0.5]],\n",
        "        [\"users\", 5, hashlib.sha512(\"password5\".encode()).hexdigest(), [0.2,0.4,0.5,0.3,0.7,0.6,0.5,0.3,0.3,0.7,0.6,0.5,0.5,0.6,0.6], [4,3,0,0,0,0,0,0,0,0,0,0,0,0,0], [1,1,0], 0.01,\n",
        "         [0.2,0.5,0.6,0.6,0.7,0.5,0.7,0.6,0.5,0.6,0.5,0.7,0.6,0.7,0.5]]\n",
        "    ]\n",
        "\n",
        "    sample_songs = [\n",
        "        [\"songs\", 1, [0.7,0.8,0.9,0.9,0.9,0.9,0.9,0.9,0.9,0.9,0.9,0.9,0.9,0.9,0.9], 0.02, 5],\n",
        "        [\"songs\", 2, [0.6,0.7,0.8,0.8,0.8,0.8,0.8,0.8,0.8,0.8,0.8,0.8,0.8,0.8,0.8], 0.02, 5],\n",
        "        [\"songs\", 3, [0.5,0.7,0.9,0.9,0.9,0.9,0.9,0.9,0.9,0.9,0.9,0.9,0.9,0.9,0.9], 0.02, 0],\n",
        "        [\"songs\", 4, [0.4,0.7,0.8,0.8,0.8,0.8,0.8,0.8,0.8,0.8,0.8,0.8,0.8,0.8,0.8], 0.02, 0],\n",
        "        [\"songs\", 5, [0.3,0.7,0.8,0.8,0.8,0.8,0.8,0.8,0.8,0.8,0.8,0.8,0.8,0.8,0.8], 0.02, 0],\n",
        "        [\"songs\", 6, [0.5,0.6,0.4,0.4,0.4,0.4,0.4,0.4,0.4,0.4,0.4,0.4,0.4,0.4,0.4], 0.02, 0],\n",
        "        [\"songs\", 7, [0.5,0.7,0.4,0.4,0.4,0.4,0.4,0.4,0.4,0.4,0.4,0.4,0.4,0.4,0.4], 0.02, 0],\n",
        "        [\"songs\", 8, [0.6,0.6,0.9,0.9,0.9,0.9,0.9,0.9,0.9,0.9,0.9,0.9,0.9,0.9,0.9], 0.02, 0],\n",
        "        [\"songs\", 9, [0.5,0.5,0.5,0.5,0.5,0.5,0.5,0.5,0.5,0.5,0.5,0.5,0.5,0.5,0.5], 0.02, 0],\n",
        "        [\"songs\", 10, [0.5,0.7,0.9,0.9,0.9,0.9,0.9,0.9,0.9,0.9,0.9,0.9,0.9,0.9,0.9], 0.02, 0],\n",
        "        [\"songs\", 11, [0.3,0.8,0.2,0.2,0.2,0.2,0.2,0.2,0.2,0.2,0.2,0.2,0.2,0.2,0.2], 0.02, 0],\n",
        "        [\"songs\", 12, [0.1,0.8,0.9,0.9,0.9,0.9,0.9,0.9,0.9,0.9,0.9,0.9,0.9,0.9,0.9], 0.02, 0],\n",
        "        [\"songs\", 13, [0.2,0.7,0.8,0.8,0.8,0.8,0.8,0.8,0.8,0.8,0.8,0.8,0.8,0.8,0.8], 0.02, 0],\n",
        "        [\"songs\", 14, [0.6,0.2,0.9,0.9,0.9,0.9,0.9,0.9,0.9,0.9,0.9,0.9,0.9,0.9,0.9], 0.02, 0],\n",
        "        [\"songs\", 15, [0.4,0.7,0.5,0.5,0.5,0.5,0.5,0.5,0.5,0.5,0.5,0.5,0.5,0.5,0.5], 0.02, 0]\n",
        "    ]\n",
        "\n",
        "    data = {\n",
        "        \"users\": [dict(zip(user_headers, user)) for user in sample_users],\n",
        "        \"songs\": [dict(zip(songs_headers, song)) for song in sample_songs]\n",
        "    }\n",
        "\n",
        "    with open(\"dataset.json\", \"w\") as json_file:\n",
        "        json.dump(data, json_file, indent=4)\n",
        "\n",
        "    print(\"Initial data has been written to dataset.json\")"
      ],
      "metadata": {
        "id": "8obWjZthoG7L"
      },
      "execution_count": null,
      "outputs": []
    },
    {
      "cell_type": "markdown",
      "source": [
        "**Load dataset**"
      ],
      "metadata": {
        "id": "fk-hTIcm24AB"
      }
    },
    {
      "cell_type": "code",
      "source": [
        "def load_data(pubkey, privkey, encrypt=False):\n",
        "    with open('dataset.json') as f:\n",
        "        data = json.load(f)\n",
        "\n",
        "    users = {}\n",
        "    for userData in data[\"users\"]:\n",
        "        user = User(userData[\"user_id\"], np.array(userData[\"init_profile\"]),\n",
        "                    np.array(userData[\"actual_ratings\"]), np.array(userData[\"mask\"]), userData[\"lr\"],\n",
        "                    pubkey, privkey, np.array(userData[\"pred_ratings\"]), userData[\"encrypted_password\"])\n",
        "        users[user.user_id] = user\n",
        "\n",
        "    song_profiles = [song_data[\"song_profile\"] for song_data in data[\"songs\"]]\n",
        "    lr = data[\"songs\"][0][\"lr\"]\n",
        "\n",
        "    if encrypt:\n",
        "        song_profiles = [[pubkey.encrypt(value) for value in row] for row in song_profiles]\n",
        "    song_profiles = np.array(song_profiles)\n",
        "\n",
        "    server = Server(song_profiles, lr, len(users), pubkey)\n",
        "\n",
        "    return users, server"
      ],
      "metadata": {
        "id": "mz08SMCTtbk1"
      },
      "execution_count": 4,
      "outputs": []
    },
    {
      "cell_type": "markdown",
      "source": [
        "**Update profiles**"
      ],
      "metadata": {
        "id": "yaxX0oXyrBjq"
      }
    },
    {
      "cell_type": "code",
      "source": [
        "def compute_gradient(user, song_profile, encrypt=False):\n",
        "    if encrypt:\n",
        "        new_song_profile = [[user.privkey.decrypt(value) for value in row] for row in song_profile]\n",
        "        song_profile = np.array(new_song_profile)\n",
        "    user.pred_ratings = np.dot(user.user_profile, song_profile.T)\n",
        "    gradient = 2 * np.dot((user.pred_ratings - user.actual_ratings) * user.mask, song_profile)\n",
        "    x = user.lr * gradient\n",
        "    user.user_profile -= x\n",
        "\n",
        "    if encrypt:\n",
        "        encrypted_gradient = np.array([user.pubkey.encrypt(x) for x in gradient])\n",
        "        return encrypted_gradient, compute_loss(user)\n",
        "    else:\n",
        "        return gradient, compute_loss(user)\n",
        "\n",
        "\n",
        "def compute_loss(user):\n",
        "    return np.sum(((user.actual_ratings - user.pred_ratings) * user.mask) ** 2)\n",
        "\n",
        "\n",
        "def update_matrices(users, server):\n",
        "    convergence_iters_threshold = 50\n",
        "    iter = 0\n",
        "    prev_loss = 0\n",
        "    local_convergence = 0\n",
        "    lossArray = []\n",
        "    while True:\n",
        "        startTime = time()\n",
        "        total_loss = 0\n",
        "        for user_id, user_data in users.items():\n",
        "            gradient, loss = compute_gradient(user_data, server.song_profile, True)\n",
        "            total_loss += loss\n",
        "            server.update_song_profile(gradient)\n",
        "        if np.abs(total_loss - prev_loss) < 0.001:\n",
        "            local_convergence += 1\n",
        "            if local_convergence > convergence_iters_threshold:\n",
        "                print(f'Converged after {iter} iterations and {time() - startTime} seconds')\n",
        "                break\n",
        "        else:\n",
        "            local_convergence = 0\n",
        "            prev_loss = total_loss\n",
        "\n",
        "        lossArray.append(total_loss)\n",
        "        iter += 1\n",
        "    print(\"Matrices are updated successfully :)\")\n",
        "\n",
        "def update_ratings_in_json(user_id, song_id, actual_ratings, mask):\n",
        "    with open('dataset.json', 'r') as json_file:\n",
        "        data = json.load(json_file)\n",
        "\n",
        "    for user in data[\"users\"]:\n",
        "        if user[\"type\"] == \"users\" and user[\"user_id\"] == user_id:\n",
        "            user[\"actual_ratings\"] = [int(r) for r in actual_ratings]\n",
        "            user[\"mask\"] = [int(m) for m in mask]\n",
        "            break\n",
        "\n",
        "    with open('dataset.json', 'w') as json_file:\n",
        "        json.dump(data, json_file, indent=4)"
      ],
      "metadata": {
        "id": "dmUfqpbarFVi"
      },
      "execution_count": 3,
      "outputs": []
    },
    {
      "cell_type": "markdown",
      "source": [
        "**Songs Recommandation**\n",
        "\n",
        "The GUIApp class takes charge of the user interface, offering functions for user management such as login and signup. It also provides functions for data management, including loading data onto the screen and updating it as necessary."
      ],
      "metadata": {
        "id": "rm2CQe1F6Qds"
      }
    },
    {
      "cell_type": "code",
      "source": [
        "class GUIApp:\n",
        "    def __init__(self, root):\n",
        "        self.root = root\n",
        "        self.root.title(\"Song Recommender\")\n",
        "\n",
        "        # Initialize Paillier encryption keys\n",
        "        self.pubkey, self.privkey = paillier.generate_paillier_keypair()\n",
        "\n",
        "        # Load data\n",
        "        self.users, self.server = load_data(pubkey=self.pubkey, privkey=self.privkey, encrypt=True)\n",
        "\n",
        "        self.login_frame = tk.Frame(self.root)\n",
        "        self.login_frame.pack(padx=100, pady=100)\n",
        "\n",
        "        self.login_label = tk.Label(self.login_frame, text=\"User ID:\")\n",
        "        self.login_label.grid(row=0, column=0, sticky=\"e\")\n",
        "\n",
        "        self.login_entry = tk.Entry(self.login_frame)\n",
        "        self.login_entry.grid(row=0, column=1)\n",
        "\n",
        "        self.password_label = tk.Label(self.login_frame, text=\"Password:\")\n",
        "        self.password_label.grid(row=1, column=0, sticky=\"e\")\n",
        "\n",
        "        self.password_entry = tk.Entry(self.login_frame, show=\"*\")\n",
        "        self.password_entry.grid(row=1, column=1)\n",
        "\n",
        "        self.login_button = tk.Button(self.login_frame, text=\"Login\", command=self.login)\n",
        "        self.login_button.grid(row=2, columnspan=2)\n",
        "\n",
        "        self.join_button = tk.Button(self.login_frame, text=\"Join\", command=self.show_join_popup)\n",
        "        self.join_button.grid(row=3, columnspan=2)\n",
        "\n",
        "\n",
        "    def login(self):\n",
        "        user_id = self.login_entry.get()\n",
        "        input_password = self.password_entry.get()\n",
        "\n",
        "        if user_id.isdigit():\n",
        "            user_id = int(user_id)\n",
        "            users = self.users\n",
        "\n",
        "            if user_id in users:\n",
        "                user_data = users[user_id]\n",
        "                encrypted_input_password = self.encrypt_password(input_password)  # Encrypt user input\n",
        "                if encrypted_input_password == user_data.encrypted_password:\n",
        "                    self.root.destroy()  # Close the login window\n",
        "                    self.show_recommendations(user_id)  # Pass user_id instead of user_data\n",
        "                else:\n",
        "                    messagebox.showerror(\"Login Failed\", \"Invalid password.\")\n",
        "            else:\n",
        "                messagebox.showerror(\"Login Failed\", \"User not found.\")\n",
        "        else:\n",
        "            messagebox.showerror(\"Login Failed\", \"Invalid user id.\")\n",
        "\n",
        "    def show_join_popup(self):\n",
        "        join_popup = tk.Toplevel(self.root)\n",
        "        join_popup.title(\"Join\")\n",
        "\n",
        "        password_label = tk.Label(join_popup, text=\"Password:\")\n",
        "        password_label.pack()\n",
        "\n",
        "        password_entry = tk.Entry(join_popup, show=\"*\")\n",
        "        password_entry.pack()\n",
        "\n",
        "        confirm_password_label = tk.Label(join_popup, text=\"Confirm Password:\")\n",
        "        confirm_password_label.pack()\n",
        "\n",
        "        confirm_password_entry = tk.Entry(join_popup, show=\"*\")\n",
        "        confirm_password_entry.pack()\n",
        "\n",
        "        join_button = tk.Button(join_popup, text=\"Join\",\n",
        "                                command=lambda: self.create_user(password_entry.get(), confirm_password_entry.get()))\n",
        "        join_button.pack()\n",
        "\n",
        "    def create_user(self, password, confirm_password):\n",
        "        if password == confirm_password:\n",
        "            encrypted_password = self.encrypt_password(password)  # Encrypt with SHA-512 hash\n",
        "            user_id = len(self.users) + 1\n",
        "            init_profile = np.array( [0.1,0.2,0.3,0.3,0.7,0.6,0.5,0.3,0.3,0.7,0.6,0.5,0.5,0.6,0.6])\n",
        "            actual_ratings = np.array([0,0,0,0,0,0,0,0,0,0,0,0,0,0,0])\n",
        "            mask = np.array([0,0,0,0,0,0,0,0,0,0,0,0,0,0,0])\n",
        "            lr = 0.01\n",
        "            pred_ratings = np.array([0,0,0,0,0,0,0,0,0,0,0,0,0,0,0])\n",
        "\n",
        "            new_user = {\n",
        "                \"type\": \"users\",\n",
        "                \"user_id\": user_id,\n",
        "                \"encrypted_password\": encrypted_password,\n",
        "                \"init_profile\": init_profile.tolist(),\n",
        "                \"actual_ratings\": actual_ratings.tolist(),\n",
        "                \"mask\": mask.tolist(),\n",
        "                \"lr\": lr,\n",
        "                \"pred_ratings\": pred_ratings.tolist()\n",
        "            }\n",
        "\n",
        "            self.users[user_id] = User(user_id, init_profile, actual_ratings, mask, lr, self.pubkey, self.privkey,\n",
        "                                       pred_ratings, encrypted_password)\n",
        "\n",
        "            with open(\"dataset.json\", \"r\") as json_file:\n",
        "                data = json.load(json_file)\n",
        "\n",
        "            data[\"users\"].append(new_user)\n",
        "\n",
        "            with open(\"dataset.json\", \"w\") as json_file:\n",
        "                json.dump(data, json_file, indent=4)\n",
        "\n",
        "            messagebox.showinfo(\"Join\", \"User joined successfully!\")\n",
        "        else:\n",
        "            messagebox.showerror(\"Join Failed\", \"Passwords do not match.\")\n",
        "\n",
        "    def encrypt_password(self, password):\n",
        "        # Encrypt password using SHA-512 hash\n",
        "        hash_object = hashlib.sha512(password.encode())\n",
        "        return hash_object.hexdigest()\n",
        "\n",
        "    def show_recommendations(self, user_id):\n",
        "        root = tk.Tk()\n",
        "        root.title(\"Song Recommender\")\n",
        "\n",
        "        users = self.users\n",
        "        if user_id in users:\n",
        "            user_data = users[user_id]\n",
        "            encrypted_password = user_data.encrypted_password\n",
        "            actual_ratings = user_data.actual_ratings\n",
        "            mask = user_data.mask\n",
        "            self.server.update_song_profile(user_data.user_profile)\n",
        "\n",
        "            rating_frame = tk.Frame(root)\n",
        "            rating_frame.pack(padx=20, pady=20)\n",
        "\n",
        "            best_songs_label = tk.Label(rating_frame, text=\"Recommended Songs\")\n",
        "            best_songs_label.pack()\n",
        "\n",
        "            best_songs_tree = ttk.Treeview(rating_frame, columns=(\"Song\",), show=\"headings\")  # Remove \"Rating\" column\n",
        "            best_songs_tree.heading(\"Song\", text=\"Song\")\n",
        "            best_songs_tree.pack()\n",
        "\n",
        "            # Call the update_recommendations method to get best suited songs\n",
        "            recommended_songs = self.update_recommendations(user_data)\n",
        "\n",
        "            for song_id, _ in recommended_songs[:10]:  # Use song_id from the tuple\n",
        "                best_songs_tree.insert(\"\", \"end\", values=(\"Song \" + str(song_id),))\n",
        "\n",
        "            update_button = tk.Button(rating_frame, text=\"Update Rating\",\n",
        "                                      command=lambda: self.show_update_rating_popup(user_data))\n",
        "            update_button.pack()\n",
        "            root.mainloop()\n",
        "        else:\n",
        "            messagebox.showerror(\"Error\", \"User not found.\")\n",
        "\n",
        "    def show_update_rating_popup(self, user_data):\n",
        "        popup = tk.Toplevel()\n",
        "        popup.title(\"Update Rating\")\n",
        "        song_id_label = tk.Label(popup, text=\"Song ID:\")\n",
        "        song_id_label.pack()\n",
        "        song_id_entry = tk.Entry(popup)\n",
        "        song_id_entry.pack()\n",
        "        rating_label = tk.Label(popup, text=\"Rating:\")\n",
        "        rating_label.pack()\n",
        "        rating_entry = tk.Entry(popup)\n",
        "        rating_entry.pack()\n",
        "        update_button = tk.Button(popup, text=\"Update\",\n",
        "                                  command=lambda: self.update_rating(user_data, int(song_id_entry.get()),\n",
        "                                                                     int(rating_entry.get())))\n",
        "        update_button.pack()\n",
        "        popup.mainloop()\n",
        "\n",
        "    def update_rating(self, user_data, song_id, new_rating):\n",
        "        user_data.update_rating(song_id, new_rating)\n",
        "        update_matrices(self.users, self.server)\n",
        "        # Update the recommendation tables based on updated matrices\n",
        "        user_id = user_data.user_id\n",
        "        recommended_songs = self.update_recommendations(self.users[user_id])\n",
        "        self.update_recommendation_table(recommended_songs)\n",
        "        messagebox.showinfo(\"Update Rating\", \"Rating updated successfully!\")\n",
        "\n",
        "    def update_recommendation_table(self, recommended_songs):\n",
        "        self.best_songs_tree.delete(*self.best_songs_tree.get_children())\n",
        "        for song_id, _ in recommended_songs[:10]:  # Use song_id from the tuple\n",
        "            self.best_songs_tree.insert(\"\", \"end\", values=(\"Song \" + str(song_id),))\n",
        "\n",
        "    def update_recommendations(self, user_data):\n",
        "        user_profile = user_data.user_profile\n",
        "        song_profile = self.server.song_profile\n",
        "        predicted_ratings = np.dot(user_profile, song_profile.T)\n",
        "        unrated_songs = [i for i, mask_value in enumerate(user_data.mask) if mask_value == 0]\n",
        "        recommended_songs = []\n",
        "        for song_id in unrated_songs:\n",
        "            recommended_songs.append((song_id, predicted_ratings[song_id]))\n",
        "        return recommended_songs\n",
        "\n",
        "if __name__ == \"__main__\":\n",
        "    encrypt = True\n",
        "    root = tk.Tk()\n",
        "    app = GUIApp(root)\n",
        "    root.mainloop()\n"
      ],
      "metadata": {
        "id": "EwTx4fDe6LJ8",
        "colab": {
          "base_uri": "https://localhost:8080/",
          "height": 366
        },
        "outputId": "71982700-c517-4ac0-b57d-c605274ade7c"
      },
      "execution_count": 6,
      "outputs": [
        {
          "output_type": "error",
          "ename": "TclError",
          "evalue": "ignored",
          "traceback": [
            "\u001b[0;31m---------------------------------------------------------------------------\u001b[0m",
            "\u001b[0;31mTclError\u001b[0m                                  Traceback (most recent call last)",
            "\u001b[0;32m<ipython-input-6-54fa88ad8f88>\u001b[0m in \u001b[0;36m<cell line: 171>\u001b[0;34m()\u001b[0m\n\u001b[1;32m    170\u001b[0m \u001b[0;34m\u001b[0m\u001b[0m\n\u001b[1;32m    171\u001b[0m \u001b[0;32mif\u001b[0m \u001b[0m__name__\u001b[0m \u001b[0;34m==\u001b[0m \u001b[0;34m\"__main__\"\u001b[0m\u001b[0;34m:\u001b[0m\u001b[0;34m\u001b[0m\u001b[0;34m\u001b[0m\u001b[0m\n\u001b[0;32m--> 172\u001b[0;31m     \u001b[0mroot\u001b[0m \u001b[0;34m=\u001b[0m \u001b[0mtk\u001b[0m\u001b[0;34m.\u001b[0m\u001b[0mTk\u001b[0m\u001b[0;34m(\u001b[0m\u001b[0;34m)\u001b[0m\u001b[0;34m\u001b[0m\u001b[0;34m\u001b[0m\u001b[0m\n\u001b[0m\u001b[1;32m    173\u001b[0m     \u001b[0mapp\u001b[0m \u001b[0;34m=\u001b[0m \u001b[0mGUIApp\u001b[0m\u001b[0;34m(\u001b[0m\u001b[0mroot\u001b[0m\u001b[0;34m)\u001b[0m\u001b[0;34m\u001b[0m\u001b[0;34m\u001b[0m\u001b[0m\n\u001b[1;32m    174\u001b[0m     \u001b[0mroot\u001b[0m\u001b[0;34m.\u001b[0m\u001b[0mmainloop\u001b[0m\u001b[0;34m(\u001b[0m\u001b[0;34m)\u001b[0m\u001b[0;34m\u001b[0m\u001b[0;34m\u001b[0m\u001b[0m\n",
            "\u001b[0;32m/usr/lib/python3.10/tkinter/__init__.py\u001b[0m in \u001b[0;36m__init__\u001b[0;34m(self, screenName, baseName, className, useTk, sync, use)\u001b[0m\n\u001b[1;32m   2297\u001b[0m                 \u001b[0mbaseName\u001b[0m \u001b[0;34m=\u001b[0m \u001b[0mbaseName\u001b[0m \u001b[0;34m+\u001b[0m \u001b[0mext\u001b[0m\u001b[0;34m\u001b[0m\u001b[0;34m\u001b[0m\u001b[0m\n\u001b[1;32m   2298\u001b[0m         \u001b[0minteractive\u001b[0m \u001b[0;34m=\u001b[0m \u001b[0;32mFalse\u001b[0m\u001b[0;34m\u001b[0m\u001b[0;34m\u001b[0m\u001b[0m\n\u001b[0;32m-> 2299\u001b[0;31m         \u001b[0mself\u001b[0m\u001b[0;34m.\u001b[0m\u001b[0mtk\u001b[0m \u001b[0;34m=\u001b[0m \u001b[0m_tkinter\u001b[0m\u001b[0;34m.\u001b[0m\u001b[0mcreate\u001b[0m\u001b[0;34m(\u001b[0m\u001b[0mscreenName\u001b[0m\u001b[0;34m,\u001b[0m \u001b[0mbaseName\u001b[0m\u001b[0;34m,\u001b[0m \u001b[0mclassName\u001b[0m\u001b[0;34m,\u001b[0m \u001b[0minteractive\u001b[0m\u001b[0;34m,\u001b[0m \u001b[0mwantobjects\u001b[0m\u001b[0;34m,\u001b[0m \u001b[0museTk\u001b[0m\u001b[0;34m,\u001b[0m \u001b[0msync\u001b[0m\u001b[0;34m,\u001b[0m \u001b[0muse\u001b[0m\u001b[0;34m)\u001b[0m\u001b[0;34m\u001b[0m\u001b[0;34m\u001b[0m\u001b[0m\n\u001b[0m\u001b[1;32m   2300\u001b[0m         \u001b[0;32mif\u001b[0m \u001b[0museTk\u001b[0m\u001b[0;34m:\u001b[0m\u001b[0;34m\u001b[0m\u001b[0;34m\u001b[0m\u001b[0m\n\u001b[1;32m   2301\u001b[0m             \u001b[0mself\u001b[0m\u001b[0;34m.\u001b[0m\u001b[0m_loadtk\u001b[0m\u001b[0;34m(\u001b[0m\u001b[0;34m)\u001b[0m\u001b[0;34m\u001b[0m\u001b[0;34m\u001b[0m\u001b[0m\n",
            "\u001b[0;31mTclError\u001b[0m: no display name and no $DISPLAY environment variable"
          ]
        }
      ]
    }
  ]
}